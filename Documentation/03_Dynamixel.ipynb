{
 "metadata": {
  "language_info": {
   "codemirror_mode": {
    "name": "ipython",
    "version": 3
   },
   "file_extension": ".py",
   "mimetype": "text/x-python",
   "name": "python",
   "nbconvert_exporter": "python",
   "pygments_lexer": "ipython3",
   "version": 3
  },
  "orig_nbformat": 2
 },
 "nbformat": 4,
 "nbformat_minor": 2,
 "cells": [
  {
   "source": [
    "# Install Dynamixel \n",
    "\n",
    "\n",
    "The ROS instructions for Dynamixel are: http://wiki.ros.org/dynamixel\n",
    "\n",
    "Some tutorials: http://wiki.ros.org/dynamixel_controllers/Tutorials\n",
    "\n",
    "The ROBOTIS emanual for Dynamixel Workbench: https://emanual.robotis.com/docs/en/software/dynamixel/dynamixel_workbench/\n",
    "\n",
    "The purpose of DYNAMIXEL Workbench is to use more simple and easy to use any DYNAMIXEL. This library is based on DYNAMIXEL SDK and supports ROS, Linux, macOS and Arduino. However, this library is not magic stick to operate DYNAMIXEL with any setup. It has some restriction compared with DYNAMIXEL SDK but we are continue to upgrade this library for almost everyone loves DYNAMIXEL.\n",
    "\n",
    "DYNAMIXEL Workbench is designed to control DYNAMIXEL in ROS with limited features.\n",
    "\n",
    "To install this package, follow the instructions:\n",
    "- Download the ROS packages in src folder and compile with catkin_make:\n"
   ],
   "cell_type": "markdown",
   "metadata": {}
  },
  {
   "cell_type": "code",
   "execution_count": null,
   "metadata": {},
   "outputs": [],
   "source": [
    "git clone https://github.com/ROBOTIS-GIT/dynamixel-workbench.git\n",
    "git clone https://github.com/ROBOTIS-GIT/dynamixel-workbench-msgs.git\n",
    "git clone https://github.com/ROBOTIS-GIT/DynamixelSDK.git"
   ]
  },
  {
   "source": [
    "- Install Arduino IDE for uploding firmware to OpenCM9.04C\n",
    "(https://emanual.robotis.com/docs/en/software/arduino_ide/)\n",
    "- Install OpenCM9.04 board from Board Manager\n",
    "- Install DYNAMIXEL2Arduino library from Library Manager\n",
    "- test with different exemples"
   ],
   "cell_type": "markdown",
   "metadata": {}
  },
  {
   "source": [
    "The HW will be based on:\n",
    "- an OpenCM9.04C board https://emanual.robotis.com/docs/en/parts/controller/opencm904/\n",
    "- over an OpenCM485-EXP https://emanual.robotis.com/docs/en/parts/controller/opencm485exp/\n",
    "- Power connector 12V 5A\n",
    "- microUSB connected to PC USB"
   ],
   "cell_type": "markdown",
   "metadata": {}
  },
  {
   "source": [
    "<img src=\"./Images/1_dynamixel_EXP1.png\">"
   ],
   "cell_type": "markdown",
   "metadata": {}
  },
  {
   "source": [
    "## Control AX12A servomotors"
   ],
   "cell_type": "markdown",
   "metadata": {}
  },
  {
   "source": [
    "- Open the exemple \"scan_dynamixel.ino\" from Dynamixel2Arduino/basic library\n",
    "- once uploaded on the board open the \"serial monitor\" and see the protocol (1 for AX12A servomotors), IPs and Baudrate (57600)\n",
    "- Open the exemple \"position_mode.ino\" from Dynamixel2Arduino/basic library\n",
    "- Change the ID number and protocol:\n",
    "\n",
    "        const uint8_t DXL_ID = 2;\n",
    "\n",
    "        const float DXL_PROTOCOL_VERSION = 1.0;\n",
    "- change the goal positions to the desired values:\n",
    "\n",
    "                dxl.setGoalPosition(DXL_ID, 60, UNIT_DEGREE);\n"
   ],
   "cell_type": "markdown",
   "metadata": {}
  }
 ]
}