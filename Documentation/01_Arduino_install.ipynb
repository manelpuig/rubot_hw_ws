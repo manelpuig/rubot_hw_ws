{
 "cells": [
  {
   "cell_type": "markdown",
   "metadata": {},
   "source": [
    "# Arduino Install"
   ]
  },
  {
   "cell_type": "markdown",
   "metadata": {},
   "source": [
    "The Arduino family of micro controllers has quickly become a go to board for hobbyist due to its simplicity and ease of use, however often times roboticists must create communication protocols to allow their embedded hardware to communicate with a computer. "
   ]
  },
  {
   "cell_type": "markdown",
   "metadata": {},
   "source": [
    "The first step is to set up your Arduino environment, begin by installing the Arduino IDE from the webside: https://www.arduino.cc/en/Main/Software\n",
    "\n",
    "Download the linux 64bits version, decompress and copy it to the Tools folder on user directory\n",
    "\n",
    "Install the arduino version from the Arduino directory, type:"
   ]
  },
  {
   "cell_type": "code",
   "execution_count": null,
   "metadata": {},
   "outputs": [],
   "source": [
    "./install.sh"
   ]
  },
  {
   "cell_type": "markdown",
   "metadata": {},
   "source": [
    "In order to add the program to the PATH:"
   ]
  },
  {
   "cell_type": "code",
   "execution_count": null,
   "metadata": {},
   "outputs": [],
   "source": [
    "gedit ~/.bashrc"
   ]
  },
  {
   "cell_type": "markdown",
   "metadata": {},
   "source": [
    "add the line:"
   ]
  },
  {
   "cell_type": "code",
   "execution_count": null,
   "metadata": {},
   "outputs": [],
   "source": [
    "export PATH=$PATH:$HOME/Tools/arduino-1.8.13"
   ]
  },
  {
   "cell_type": "markdown",
   "metadata": {},
   "source": [
    "close the cmd window and open a new one. You can open arduino program from the user folder"
   ]
  },
  {
   "cell_type": "markdown",
   "metadata": {},
   "source": [
    "If you want to uninstall the sw with all the dependencies: "
   ]
  },
  {
   "cell_type": "code",
   "execution_count": null,
   "metadata": {},
   "outputs": [],
   "source": [
    "sudo apt-get autoremove --purge arduino"
   ]
  },
  {
   "cell_type": "markdown",
   "metadata": {},
   "source": [
    "## Install ROSSERIAL ARDUINO"
   ]
  },
  {
   "cell_type": "markdown",
   "metadata": {},
   "source": [
    "Rosserial is a general protocol for sending ROS messages over a serial interface, such as the UART on Arduino. This allows you to easily interface any sensors attached to Arduino into your ROS environment!"
   ]
  },
  {
   "cell_type": "markdown",
   "metadata": {},
   "source": [
    "<img src=\"./Images/1_rosserial_arduino.png\">"
   ]
  },
  {
   "cell_type": "markdown",
   "metadata": {},
   "source": [
    "<img src=\"./Images/1_arduino_sensors.png\">"
   ]
  },
  {
   "cell_type": "markdown",
   "metadata": {},
   "source": [
    "https://wiki.ros.org/rosserial\n",
    "\n",
    "http://wiki.ros.org/rosserial_arduino/Tutorials\n",
    "\n",
    "https://www.arduino.cc/reference/en/libraries/rosserial-arduino-library/\n",
    "\n",
    "Interesting link: https://www.clearpathrobotics.com/assets/guides/kinetic/ros/Driving%20Husky%20with%20ROSSerial.html\n",
    "\n",
    "Exemple using arduino: https://maker.pro/arduino/tutorial/how-to-use-arduino-with-robot-operating-system-ros"
   ]
  },
  {
   "cell_type": "markdown",
   "metadata": {},
   "source": [
    "Install rosserial arduino"
   ]
  },
  {
   "cell_type": "code",
   "execution_count": null,
   "metadata": {},
   "outputs": [],
   "source": [
    "sudo apt-get install ros-kinetic-rosserial ros-kinetic-rosserial-server ros-kinetic-rosserial-arduino"
   ]
  },
  {
   "cell_type": "markdown",
   "metadata": {},
   "source": [
    "Now we have access to rosserial python"
   ]
  },
  {
   "cell_type": "markdown",
   "metadata": {},
   "source": [
    "Generate the ROS libraries for Arduino in the Arduino/libraries folder created when you have run the program for the first time"
   ]
  },
  {
   "cell_type": "code",
   "execution_count": null,
   "metadata": {},
   "outputs": [],
   "source": [
    "cd ~/Arduino/libraries\n",
    "rm -rf ros_lib"
   ]
  },
  {
   "cell_type": "markdown",
   "metadata": {},
   "source": [
    "Run roscore in a terminal and in another terminal"
   ]
  },
  {
   "cell_type": "code",
   "execution_count": null,
   "metadata": {},
   "outputs": [],
   "source": [
    "rosrun rosserial_arduino make_libraries.py .\n",
    "cd ~\n",
    "arduino"
   ]
  },
  {
   "cell_type": "markdown",
   "metadata": {},
   "source": [
    "Now you are ready to develop ROS programs adapted to Arduino platform"
   ]
  },
  {
   "cell_type": "markdown",
   "metadata": {},
   "source": [
    "<img src=\"./Images/1_ros_lib_check.png\">"
   ]
  },
  {
   "cell_type": "markdown",
   "metadata": {},
   "source": [
    "### ROS exemple \"Hello World\""
   ]
  },
  {
   "cell_type": "markdown",
   "metadata": {},
   "source": [
    "In exemples you can go to \"ros_lib\" folder for Hello word exemple\n",
    "We verify the serial port where Arduino board is connected\n",
    "We upload the program"
   ]
  },
  {
   "cell_type": "markdown",
   "metadata": {},
   "source": [
    "<img src=\"./Images/1_Hello_ROS.png\">"
   ]
  },
  {
   "cell_type": "markdown",
   "metadata": {},
   "source": [
    "(shift+imprimir) to select region to print\n",
    "We need to start the server application ROS in our PC: rosserial_python package\n",
    "(we work always in arduino folder)"
   ]
  },
  {
   "cell_type": "markdown",
   "metadata": {},
   "source": [
    "<img src=\"./Images/1_rosserial_arduino.png\">"
   ]
  },
  {
   "cell_type": "markdown",
   "metadata": {},
   "source": [
    "Note!: if you are using a Virtual Box Ubuntu, you have to install the USB port and give user permissions:\n",
    "- connect the Arduino board with the USB\n",
    "- in Ubuntu Virtual Box, select \"devices\", \"USB\" and select in the list \"Arduino Srl Arduino Uno [0001]\"\n",
    "- open a terminal and type:"
   ]
  },
  {
   "cell_type": "markdown",
   "metadata": {},
   "source": [
    "mpuig@mpuig:~$ ls -l /dev/ttyACM* \n",
    "\n",
    "crw-rw---- 1 root dialout 166, 0 ago 25 15:37 /dev/ttyACM0 \n",
    "\n",
    "mpuig@mpuig:~$ sudo usermod -a -G dialout mpuig \n",
    "\n",
    "mpuig@mpuig:~$ ls -l /dev/ttyACM* \n",
    "\n",
    "crw-rw---- 1 root dialout 166, 0 ago 25 15:37 /dev/ttyACM0 \n",
    "\n",
    "mpuig@mpuig:~$ sudo chmod a+rw /dev/ttyACM0 \n",
    "\n",
    "mpuig@mpuig:~$ ls -l /dev/ttyACM* \n",
    "\n",
    "crw-rw-rw- 1 root dialout 166, 0 ago 25 15:37 /dev/ttyACM0 \n",
    "\n",
    "mpuig@mpuig:~$ \n",
    "\n",
    "You have now access and permissions to the USB port!\n",
    "\n",
    "you will have to do it every time you disconnect the USB Arduino port\n",
    "\n",
    "Now you can test the \"Hello world!\" program"
   ]
  },
  {
   "cell_type": "code",
   "execution_count": null,
   "metadata": {},
   "outputs": [],
   "source": [
    "roscore"
   ]
  },
  {
   "cell_type": "markdown",
   "metadata": {},
   "source": [
    "rosrun rosserial_python [TAB][TAB]"
   ]
  },
  {
   "cell_type": "code",
   "execution_count": null,
   "metadata": {},
   "outputs": [],
   "source": [
    "rosrun rosserial_python serial_node.py /dev/ttyACM0"
   ]
  },
  {
   "cell_type": "markdown",
   "metadata": {},
   "source": [
    "<img src=\"./Images/1_serial_node.png\">"
   ]
  },
  {
   "cell_type": "code",
   "execution_count": null,
   "metadata": {},
   "outputs": [],
   "source": [
    "rostopic list"
   ]
  },
  {
   "cell_type": "markdown",
   "metadata": {},
   "source": [
    "<img src=\"./Images/1_serial_topics.png\">"
   ]
  },
  {
   "cell_type": "code",
   "execution_count": null,
   "metadata": {},
   "outputs": [],
   "source": [
    "rostopic echo /chatter"
   ]
  },
  {
   "cell_type": "markdown",
   "metadata": {},
   "source": [
    "<img src=\"./Images/1_serial_echo.png\">"
   ]
  },
  {
   "cell_type": "code",
   "execution_count": null,
   "metadata": {},
   "outputs": [],
   "source": [
    "rostopic info /chatter"
   ]
  },
  {
   "cell_type": "markdown",
   "metadata": {},
   "source": [
    "<img src=\"./Images/1_serial_info.png\">"
   ]
  },
  {
   "cell_type": "markdown",
   "metadata": {},
   "source": [
    "## Install ESP32/8266 boards"
   ]
  },
  {
   "cell_type": "markdown",
   "metadata": {},
   "source": [
    "Videotutorial: https://www.youtube.com/watch?v=pEQmBF_B8CM\n",
    "\n",
    "You have to open the Preferences/additional boards, and add:\n",
    "\n",
    "https://dl.espressif.com/dl/package_esp32_index.json\n",
    "\n",
    "http://arduino.esp8266.com/stable/package_esp8266com_index.json\n",
    "\n",
    "you open the Board manager and install the \"ESP\" and install the ESP32 and ESP8266 boards\n"
   ]
  },
  {
   "cell_type": "markdown",
   "metadata": {},
   "source": [
    "ROS Connection: error \"Unable to sync with device\""
   ]
  },
  {
   "cell_type": "markdown",
   "metadata": {},
   "source": [
    "## Install STM32 board"
   ]
  },
  {
   "cell_type": "markdown",
   "metadata": {},
   "source": [
    "Tutorial: https://github.com/stm32duino/wiki/wiki/Getting-Started "
   ]
  },
  {
   "cell_type": "markdown",
   "metadata": {},
   "source": [
    "You have to open the Preferences/additional boards, and add:\n",
    "\n",
    "https://github.com/stm32duino/BoardManagerFiles/raw/master/STM32/package_stm_index.json\n",
    "\n",
    "you open the Board manager and install the \"STM-cores br ST-Microelectronics\"\n"
   ]
  },
  {
   "cell_type": "markdown",
   "metadata": {},
   "source": [
    "## Install OpenCM9.04 robotis board"
   ]
  },
  {
   "cell_type": "markdown",
   "metadata": {},
   "source": [
    "You have to open the Preferences/additional boards, and add:\n",
    "\n",
    "https://raw.githubusercontent.com/ROBOTIS-GIT/OpenCM9.04/master/arduino/opencm_release/package_opencm9.04_index.json\n",
    "\n",
    "you open the Board manager and install the \"OpenCM9.04 by ROBOTIS\"\n"
   ]
  },
  {
   "cell_type": "markdown",
   "metadata": {},
   "source": [
    "## Install OpenCR robotis board"
   ]
  },
  {
   "cell_type": "markdown",
   "metadata": {},
   "source": [
    "You have to open the Preferences/additional boards, and add:\n",
    "\n",
    "https://raw.githubusercontent.com/ROBOTIS-GIT/OpenCR/master/arduino/opencr_release/package_opencr_index.json\n",
    "\n",
    "you open the Board manager and install the \"OpenCR by ROBOTIS\"\n"
   ]
  },
  {
   "cell_type": "markdown",
   "metadata": {},
   "source": [
    "# PC master and Arduino"
   ]
  },
  {
   "cell_type": "markdown",
   "metadata": {},
   "source": [
    "The final structure will be defined by:\n",
    "- a node implemented in the PC master\n",
    "- a node in the arduino board\n",
    "\n",
    "The final node and topics schematic will be:"
   ]
  },
  {
   "cell_type": "markdown",
   "metadata": {},
   "source": [
    "<img src=\"./Images/1_nodes_schematics.png\">"
   ]
  },
  {
   "cell_type": "markdown",
   "metadata": {},
   "source": [
    "We will create a \"HW_motion_plan\" package with dependencies:\n",
    "- rospy\n",
    "- std_msgs (for /IMU topic)\n",
    "- sensor_msgs (for /scan topic)\n",
    "- geometry_msgs (for /cmd_vel topic)\n",
    "- nav_msgs (for /odom topic)"
   ]
  },
  {
   "cell_type": "code",
   "execution_count": null,
   "metadata": {},
   "outputs": [],
   "source": [
    "cd ~/rUBot_HW/src"
   ]
  },
  {
   "cell_type": "code",
   "execution_count": null,
   "metadata": {},
   "outputs": [],
   "source": [
    "catkin_create_pkg hw_motion_plan std_msgs sensor_msgs geometry_msgs nav_msgs rospy roscpp"
   ]
  },
  {
   "cell_type": "code",
   "execution_count": null,
   "metadata": {},
   "outputs": [],
   "source": [
    "cd ~/rUBot_HW\n",
    "catkin_make"
   ]
  },
  {
   "cell_type": "markdown",
   "metadata": {},
   "source": [
    "Let's see how to implement the nodes, Publishers and Subscribers"
   ]
  }
 ],
 "metadata": {
  "kernelspec": {
   "display_name": "Python 3",
   "language": "python",
   "name": "python3"
  },
  "language_info": {
   "codemirror_mode": {
    "name": "ipython",
    "version": 3
   },
   "file_extension": ".py",
   "mimetype": "text/x-python",
   "name": "python",
   "nbconvert_exporter": "python",
   "pygments_lexer": "ipython3",
   "version": "3.7.6"
  }
 },
 "nbformat": 4,
 "nbformat_minor": 2
}