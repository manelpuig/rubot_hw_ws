{
 "cells": [
  {
   "cell_type": "markdown",
   "metadata": {},
   "source": [
    "# ROS Tutorial guide"
   ]
  },
  {
   "cell_type": "markdown",
   "metadata": {},
   "source": [
    "Robotis web page: https://emanual.robotis.com/docs/en/platform/turtlebot3/overview/#overview"
   ]
  },
  {
   "cell_type": "markdown",
   "metadata": {},
   "source": [
    "ROBOTIS Free course: https://www.youtube.com/playlist?list=PLRG6WP3c31_U7TFGduEIJWVtkOw6AJjFf "
   ]
  },
  {
   "cell_type": "markdown",
   "metadata": {},
   "source": [
    "UDEMY courses: https://www.udemy.com/share/101XvYAEITeFhTRX4F/ "
   ]
  },
  {
   "cell_type": "markdown",
   "metadata": {},
   "source": [
    "## ROS Installation"
   ]
  },
  {
   "cell_type": "markdown",
   "metadata": {},
   "source": [
    "### PC Ubuntu Install"
   ]
  },
  {
   "cell_type": "markdown",
   "metadata": {},
   "source": [
    "Follow link: https://emanual.robotis.com/docs/en/platform/turtlebot3/pc_setup/"
   ]
  },
  {
   "cell_type": "markdown",
   "metadata": {},
   "source": [
    "Install Virtual Box: https://www.virtualbox.org/"
   ]
  },
  {
   "cell_type": "markdown",
   "metadata": {},
   "source": [
    "Install on the Virtual box the Ubuntu 64-bit PC (AMD64) desktop image: http://releases.ubuntu.com/16.04.6/?_ga=2.256096904.2013083439.1595320024-1949231020.1595320024"
   ]
  },
  {
   "cell_type": "markdown",
   "metadata": {},
   "source": [
    "To avoid problems and work with a more recent version of ROS (Melodic), the version of Ubuntu we will install is the 18.04 Desktop: https://releases.ubuntu.com/18.04/\n",
    "\n",
    "We will install a virtual machine with this Ubuntu version.\n",
    "\n",
    "We update the system:"
   ]
  },
  {
   "cell_type": "code",
   "execution_count": null,
   "metadata": {},
   "outputs": [],
   "source": [
    "sudo apt-get update\n",
    "sudo apt-get upgrade"
   ]
  },
  {
   "cell_type": "markdown",
   "metadata": {},
   "source": [
    "Install:\n",
    "- Terminator\n",
    "- Visual Studio Code\n",
    "- extensions "
   ]
  },
  {
   "cell_type": "markdown",
   "metadata": {},
   "source": [
    "In order to work with VS Code you have to install the extension \"Remote SSH\" and follow the instructions:\n",
    "\n",
    "click on the left-bottom corner\n",
    "connect to host: manel@aalvarca.asuscomm.com -p 24687\n",
    "insert the user name and password\n",
    "open a folder and you will be on the RBPi\n",
    "open a new terminal. every terminal you will open is already in your RBPi"
   ]
  },
  {
   "cell_type": "markdown",
   "metadata": {},
   "source": [
    "### PC ROS Install"
   ]
  },
  {
   "cell_type": "markdown",
   "metadata": {},
   "source": [
    "#### ROS Melodic"
   ]
  },
  {
   "cell_type": "markdown",
   "metadata": {},
   "source": [
    "Follow instructions in: http://wiki.ros.org/melodic/Installation/Ubuntu\n",
    "\n",
    "To verify which packages you have:"
   ]
  },
  {
   "cell_type": "code",
   "execution_count": null,
   "metadata": {},
   "outputs": [],
   "source": [
    "apt search ros-melodic"
   ]
  },
  {
   "cell_type": "markdown",
   "metadata": {},
   "source": [
    "To install new packages:"
   ]
  },
  {
   "cell_type": "code",
   "execution_count": null,
   "metadata": {},
   "outputs": [],
   "source": [
    "sudo apt-get install ros-melodic-packagexxx"
   ]
  },
  {
   "cell_type": "markdown",
   "metadata": {},
   "source": [
    "### ROS Kinetic"
   ]
  },
  {
   "cell_type": "code",
   "execution_count": null,
   "metadata": {},
   "outputs": [],
   "source": [
    "sudo apt-get update\n",
    "sudo apt-get upgrade\n",
    "wget https://raw.githubusercontent.com/ROBOTIS-GIT/robotis_tools/master/install_ros_kinetic.sh && chmod 755 ./install_ros_kinetic.sh && bash ./install_ros_kinetic.sh"
   ]
  },
  {
   "cell_type": "markdown",
   "metadata": {},
   "source": [
    "Install dependent packages for TurtleBot3 control on Remote PC"
   ]
  },
  {
   "cell_type": "code",
   "execution_count": null,
   "metadata": {},
   "outputs": [],
   "source": [
    "sudo apt-get install ros-kinetic-joy ros-kinetic-teleop-twist-joy ros-kinetic-teleop-twist-keyboard ros-kinetic-laser-proc ros-kinetic-rgbd-launch ros-kinetic-depthimage-to-laserscan ros-kinetic-rosserial-arduino ros-kinetic-rosserial-python ros-kinetic-rosserial-server ros-kinetic-rosserial-client ros-kinetic-rosserial-msgs ros-kinetic-amcl ros-kinetic-map-server ros-kinetic-move-base ros-kinetic-urdf ros-kinetic-xacro ros-kinetic-compressed-image-transport ros-kinetic-rqt-image-view ros-kinetic-gmapping ros-kinetic-navigation ros-kinetic-interactive-markers"
   ]
  },
  {
   "cell_type": "code",
   "execution_count": null,
   "metadata": {},
   "outputs": [],
   "source": [
    "cd ~/catkin_ws/src/\n",
    "git clone https://github.com/ROBOTIS-GIT/turtlebot3_msgs.git\n",
    "git clone -b kinetic-devel https://github.com/ROBOTIS-GIT/turtlebot3.git\n",
    "cd ~/catkin_ws && catkin_make"
   ]
  },
  {
   "cell_type": "markdown",
   "metadata": {},
   "source": [
    "If catkin_make command is completed without any errors, the preparation for TurtleBot3 is done"
   ]
  },
  {
   "cell_type": "markdown",
   "metadata": {},
   "source": [
    "ROS 1 requires IP addresses in order to communicate between TurtleBot PC and the remote PC. The remote PC and TurtleBot PC should be connected to the same wifi router.\n",
    "\n",
    "Enter the below command on the terminal window of the remote PC to find out the IP address of the remote PC."
   ]
  },
  {
   "cell_type": "code",
   "execution_count": null,
   "metadata": {},
   "outputs": [],
   "source": [
    "ifconfig"
   ]
  },
  {
   "cell_type": "markdown",
   "metadata": {},
   "source": [
    "<img src=\"./Images/1_ifconfig.png\">"
   ]
  },
  {
   "cell_type": "markdown",
   "metadata": {},
   "source": [
    "open file .bashrc in home directory\n",
    "\n",
    "Modify the address of localhost in the ROS_MASTER_URI and ROS_HOSTNAME with the IP address acquired from the above terminal window."
   ]
  },
  {
   "cell_type": "markdown",
   "metadata": {},
   "source": [
    "<img src=\"./Images/1_bashrc.png\">"
   ]
  },
  {
   "cell_type": "markdown",
   "metadata": {},
   "source": [
    "#### Create a rUBot_HW workspace"
   ]
  },
  {
   "cell_type": "markdown",
   "metadata": {},
   "source": [
    "We will create a \"rUBot_HW\" workspace in our PC to work and communicate with our rUBot.\n",
    "\n",
    "We will create also a \"HW_motion_plan\" package"
   ]
  },
  {
   "cell_type": "markdown",
   "metadata": {},
   "source": [
    "### RaspberryPi3 Install"
   ]
  },
  {
   "cell_type": "markdown",
   "metadata": {},
   "source": [
    "Follow the Tutorial instructions: https://emanual.robotis.com/docs/en/platform/turtlebot3/sbc_setup/#sbc-setup"
   ]
  },
  {
   "cell_type": "markdown",
   "metadata": {},
   "source": [
    "We recomend to install Linux based on Raspbian"
   ]
  },
  {
   "cell_type": "markdown",
   "metadata": {},
   "source": [
    "We provide the Linux distro image based on Raspbian. They are pre-installed with ROS and ROS-packages related TurtleBot3. It supports the TurtleBot3 Burger and Waffle Pi model."
   ]
  },
  {
   "cell_type": "markdown",
   "metadata": {},
   "source": [
    "In the PC Download the Linux distro image based on Raspbian for TurtleBot3: https://www.robotis.com/service/download.php?no=1738"
   ]
  },
  {
   "cell_type": "markdown",
   "metadata": {},
   "source": [
    "Follow the instructions to Run Balena-Etcher, select the Linux image you downloaded on your computer or laptop and transfer the image to the SD card"
   ]
  },
  {
   "cell_type": "markdown",
   "metadata": {},
   "source": [
    "After the installation, you can login with username pi and password turtlebot. In this case, you have to connect your Raspberry Pi to your monitor using an HDMI cable, and connect your keyboard and mouse to the Raspberry Pi."
   ]
  },
  {
   "cell_type": "markdown",
   "metadata": {},
   "source": [
    "Follow instructions to setup your RaspberryPi3: https://projects.raspberrypi.org/en/pathways/getting-started-with-raspberry-pi"
   ]
  },
  {
   "cell_type": "markdown",
   "metadata": {},
   "source": [
    "Once you’re done the wireless configuration, you can connect to Raspberry Pi via SSH from your desktop or laptop"
   ]
  },
  {
   "cell_type": "markdown",
   "metadata": {},
   "source": [
    "ssh pi@192.168.xxx.xxx (The IP 192.168.xxx.xxx is your Raspberry Pi's IP or hostname)"
   ]
  },
  {
   "cell_type": "markdown",
   "metadata": {},
   "source": [
    "### RaspberryPi3 with Ubuntu18 and ROS Melodic\n",
    "\n",
    "When using a RaspberryPi3 the Ubuntu16.04 has to be a not official version (mate) and some bugs and problems can arrise. To avoid problems and work with a more recent version of ROS (Melodic), the version of Ubuntu we will install is the 18.04 Desktop: https://releases.ubuntu.com/18.04/\n",
    "\n",
    "Detailed information is located in: "
   ]
  },
  {
   "cell_type": "markdown",
   "metadata": {},
   "source": [
    "https://gist.github.com/Albert-Alvarez/70ea4bb90e19eb9c43e336584cf0710e"
   ]
  },
  {
   "cell_type": "markdown",
   "metadata": {},
   "source": [
    "### Arduino Install"
   ]
  },
  {
   "cell_type": "markdown",
   "metadata": {},
   "source": [
    "The Arduino family of micro controllers has quickly become a go to board for hobbyist due to its simplicity and ease of use, however often times roboticists must create communication protocols to allow their embedded hardware to communicate with a computer. "
   ]
  },
  {
   "cell_type": "markdown",
   "metadata": {},
   "source": [
    "The first step is to set up your Arduino environment, begin by installing the Arduino IDE from the webside: https://www.arduino.cc/en/Main/Software\n",
    "\n",
    "Download the linux 64bits version, decompress and copy it to the Tools folder on user directory\n",
    "\n",
    "Install the arduino version from the Arduino directory, type:"
   ]
  },
  {
   "cell_type": "code",
   "execution_count": null,
   "metadata": {},
   "outputs": [],
   "source": [
    "./install.sh"
   ]
  },
  {
   "cell_type": "markdown",
   "metadata": {},
   "source": [
    "In order to add the program to the PATH:"
   ]
  },
  {
   "cell_type": "code",
   "execution_count": null,
   "metadata": {},
   "outputs": [],
   "source": [
    "gedit ~/.bashrc"
   ]
  },
  {
   "cell_type": "markdown",
   "metadata": {},
   "source": [
    "add the line:"
   ]
  },
  {
   "cell_type": "code",
   "execution_count": null,
   "metadata": {},
   "outputs": [],
   "source": [
    "export PATH=$PATH:$HOME/Tools/arduino-1.8.13"
   ]
  },
  {
   "cell_type": "markdown",
   "metadata": {},
   "source": [
    "close the cmd window and open a new one. You can open arduino program from the user folder"
   ]
  },
  {
   "cell_type": "markdown",
   "metadata": {},
   "source": [
    "If you want to uninstall the sw with all the dependencies: "
   ]
  },
  {
   "cell_type": "code",
   "execution_count": null,
   "metadata": {},
   "outputs": [],
   "source": [
    "sudo apt-get autoremove --purge arduino"
   ]
  },
  {
   "cell_type": "markdown",
   "metadata": {},
   "source": [
    "### Install ROSSERIAL ARDUINO"
   ]
  },
  {
   "cell_type": "markdown",
   "metadata": {},
   "source": [
    "Rosserial is a general protocol for sending ROS messages over a serial interface, such as the UART on Arduino. This allows you to easily interface any sensors attached to Arduino into your ROS environment!"
   ]
  },
  {
   "cell_type": "markdown",
   "metadata": {},
   "source": [
    "<img src=\"./Images/1_rosserial_arduino.png\">"
   ]
  },
  {
   "cell_type": "markdown",
   "metadata": {},
   "source": [
    "<img src=\"./Images/1_arduino_sensors.png\">"
   ]
  },
  {
   "cell_type": "markdown",
   "metadata": {},
   "source": [
    "https://wiki.ros.org/rosserial"
   ]
  },
  {
   "cell_type": "markdown",
   "metadata": {},
   "source": [
    "http://wiki.ros.org/rosserial_arduino/Tutorials"
   ]
  },
  {
   "cell_type": "markdown",
   "metadata": {},
   "source": [
    "https://www.arduino.cc/reference/en/libraries/rosserial-arduino-library/"
   ]
  },
  {
   "cell_type": "markdown",
   "metadata": {},
   "source": [
    "Interesting link: https://www.clearpathrobotics.com/assets/guides/kinetic/ros/Driving%20Husky%20with%20ROSSerial.html"
   ]
  },
  {
   "cell_type": "markdown",
   "metadata": {},
   "source": [
    "Exemple using arduino: https://maker.pro/arduino/tutorial/how-to-use-arduino-with-robot-operating-system-ros"
   ]
  },
  {
   "cell_type": "markdown",
   "metadata": {},
   "source": [
    "Install rosserial arduino"
   ]
  },
  {
   "cell_type": "code",
   "execution_count": null,
   "metadata": {},
   "outputs": [],
   "source": [
    "sudo apt-get install ros-kinetic-rosserial ros-kinetic-rosserial-server ros-kinetic-rosserial-arduino"
   ]
  },
  {
   "cell_type": "markdown",
   "metadata": {},
   "source": [
    "Now we have access to rosserial python"
   ]
  },
  {
   "cell_type": "markdown",
   "metadata": {},
   "source": [
    "Generate the ROS libraries for Arduino in the Arduino/libraries folder created when you have run the program for the first time"
   ]
  },
  {
   "cell_type": "code",
   "execution_count": null,
   "metadata": {},
   "outputs": [],
   "source": [
    "cd ~/Arduino/libraries"
   ]
  },
  {
   "cell_type": "code",
   "execution_count": null,
   "metadata": {},
   "outputs": [],
   "source": [
    "rm -rf ros_lib"
   ]
  },
  {
   "cell_type": "markdown",
   "metadata": {},
   "source": [
    "Run roscore in a terminal and in another terminal"
   ]
  },
  {
   "cell_type": "code",
   "execution_count": null,
   "metadata": {},
   "outputs": [],
   "source": [
    "rosrun rosserial_arduino make_libraries.py ."
   ]
  },
  {
   "cell_type": "code",
   "execution_count": null,
   "metadata": {},
   "outputs": [],
   "source": [
    "cd ~"
   ]
  },
  {
   "cell_type": "code",
   "execution_count": null,
   "metadata": {},
   "outputs": [],
   "source": [
    "arduino"
   ]
  },
  {
   "cell_type": "markdown",
   "metadata": {},
   "source": [
    "Now you are ready to develop ROS programs adapted to Arduino platform"
   ]
  },
  {
   "cell_type": "markdown",
   "metadata": {},
   "source": [
    "<img src=\"./Images/1_ros_lib_check.png\">"
   ]
  },
  {
   "cell_type": "markdown",
   "metadata": {},
   "source": [
    "### ROS exemple \"Hello World\""
   ]
  },
  {
   "cell_type": "markdown",
   "metadata": {},
   "source": [
    "In exemples you can go to \"ros_lib\" folder for Hello word exemple\n",
    "We verify the serial port where Arduino board is connected\n",
    "We upload the program"
   ]
  },
  {
   "cell_type": "markdown",
   "metadata": {},
   "source": [
    "<img src=\"./Images/1_Hello_ROS.png\">"
   ]
  },
  {
   "cell_type": "markdown",
   "metadata": {},
   "source": [
    "(shift+imprimir) to select region to print\n",
    "We need to start the server application ROS in our PC: rosserial_python package\n",
    "(we work always in arduino folder)"
   ]
  },
  {
   "cell_type": "markdown",
   "metadata": {},
   "source": [
    "<img src=\"./Images/1_rosserial_arduino.png\">"
   ]
  },
  {
   "cell_type": "markdown",
   "metadata": {},
   "source": [
    "Note!: if you are using a Virtual Box Ubuntu, you have to install the USB port and give user permissions:\n",
    "- connect the Arduino board with the USB\n",
    "- in Ubuntu Virtual Box, select \"devices\", \"USB\" and select in the list \"Arduino Srl Arduino Uno [0001]\"\n",
    "- open a terminal and type:"
   ]
  },
  {
   "cell_type": "markdown",
   "metadata": {},
   "source": [
    "mpuig@mpuig:~$ ls -l /dev/ttyACM* \n",
    "\n",
    "crw-rw---- 1 root dialout 166, 0 ago 25 15:37 /dev/ttyACM0 \n",
    "\n",
    "mpuig@mpuig:~$ sudo usermod -a -G dialout mpuig \n",
    "\n",
    "mpuig@mpuig:~$ ls -l /dev/ttyACM* \n",
    "\n",
    "crw-rw---- 1 root dialout 166, 0 ago 25 15:37 /dev/ttyACM0 \n",
    "\n",
    "mpuig@mpuig:~$ sudo chmod a+rw /dev/ttyACM0 \n",
    "\n",
    "mpuig@mpuig:~$ ls -l /dev/ttyACM* \n",
    "\n",
    "crw-rw-rw- 1 root dialout 166, 0 ago 25 15:37 /dev/ttyACM0 \n",
    "\n",
    "mpuig@mpuig:~$ \n",
    "\n",
    "You have now access and permissions to the USB port!\n",
    "\n",
    "you will have to do it every time you disconnect the USB Arduino port\n",
    "\n",
    "Now you can test the \"Hello world!\" program"
   ]
  },
  {
   "cell_type": "code",
   "execution_count": null,
   "metadata": {},
   "outputs": [],
   "source": [
    "roscore"
   ]
  },
  {
   "cell_type": "markdown",
   "metadata": {},
   "source": [
    "rosrun rosserial_python [TAB][TAB]"
   ]
  },
  {
   "cell_type": "code",
   "execution_count": null,
   "metadata": {},
   "outputs": [],
   "source": [
    "rosrun rosserial_python serial_node.py /dev/ttyACM0"
   ]
  },
  {
   "cell_type": "markdown",
   "metadata": {},
   "source": [
    "<img src=\"./Images/1_serial_node.png\">"
   ]
  },
  {
   "cell_type": "code",
   "execution_count": null,
   "metadata": {},
   "outputs": [],
   "source": [
    "rostopic list"
   ]
  },
  {
   "cell_type": "markdown",
   "metadata": {},
   "source": [
    "<img src=\"./Images/1_serial_topics.png\">"
   ]
  },
  {
   "cell_type": "code",
   "execution_count": null,
   "metadata": {},
   "outputs": [],
   "source": [
    "rostopic echo /chatter"
   ]
  },
  {
   "cell_type": "markdown",
   "metadata": {},
   "source": [
    "<img src=\"./Images/1_serial_echo.png\">"
   ]
  },
  {
   "cell_type": "code",
   "execution_count": null,
   "metadata": {},
   "outputs": [],
   "source": [
    "rostopic info /chatter"
   ]
  },
  {
   "cell_type": "markdown",
   "metadata": {},
   "source": [
    "<img src=\"./Images/1_serial_info.png\">"
   ]
  },
  {
   "cell_type": "markdown",
   "metadata": {},
   "source": [
    "## Install ESP32/8266 boards"
   ]
  },
  {
   "cell_type": "markdown",
   "metadata": {},
   "source": [
    "Videotutorial: https://www.youtube.com/watch?v=pEQmBF_B8CM\n",
    "\n",
    "You have to open the Preferences/additional boards, and add:\n",
    "\n",
    "https://dl.espressif.com/dl/package_esp32_index.json\n",
    "\n",
    "http://arduino.esp8266.com/stable/package_esp8266com_index.json\n",
    "\n",
    "you open the Board manager and install the \"ESP\" and install the ESP32 and ESP8266 boards\n"
   ]
  },
  {
   "cell_type": "markdown",
   "metadata": {},
   "source": [
    "ROS Connection: error \"Unable to sync with device\""
   ]
  },
  {
   "cell_type": "markdown",
   "metadata": {},
   "source": [
    "## Install STM32 board"
   ]
  },
  {
   "cell_type": "markdown",
   "metadata": {},
   "source": [
    "Tutorial: https://github.com/stm32duino/wiki/wiki/Getting-Started "
   ]
  },
  {
   "cell_type": "markdown",
   "metadata": {},
   "source": [
    "You have to open the Preferences/additional boards, and add:\n",
    "\n",
    "https://github.com/stm32duino/BoardManagerFiles/raw/master/STM32/package_stm_index.json\n",
    "\n",
    "you open the Board manager and install the \"STM-cores br ST-Microelectronics\"\n"
   ]
  },
  {
   "cell_type": "markdown",
   "metadata": {},
   "source": [
    "## Install OpenCM9.04 robotis board"
   ]
  },
  {
   "cell_type": "markdown",
   "metadata": {},
   "source": [
    "You have to open the Preferences/additional boards, and add:\n",
    "\n",
    "https://raw.githubusercontent.com/ROBOTIS-GIT/OpenCM9.04/master/arduino/opencm_release/package_opencm9.04_index.json\n",
    "\n",
    "you open the Board manager and install the \"OpenCM9.04 by ROBOTIS\"\n"
   ]
  },
  {
   "cell_type": "markdown",
   "metadata": {},
   "source": [
    "## Install OpenCR robotis board"
   ]
  },
  {
   "cell_type": "markdown",
   "metadata": {},
   "source": [
    "You have to open the Preferences/additional boards, and add:\n",
    "\n",
    "https://raw.githubusercontent.com/ROBOTIS-GIT/OpenCR/master/arduino/opencr_release/package_opencr_index.json\n",
    "\n",
    "you open the Board manager and install the \"OpenCR by ROBOTIS\"\n"
   ]
  },
  {
   "cell_type": "markdown",
   "metadata": {},
   "source": [
    "## Install OpenCV"
   ]
  },
  {
   "cell_type": "code",
   "execution_count": null,
   "metadata": {},
   "outputs": [],
   "source": [
    "sudo apt-get update"
   ]
  },
  {
   "cell_type": "code",
   "execution_count": null,
   "metadata": {},
   "outputs": [],
   "source": [
    "sudo apt-get install ros-kinetic-opencv3"
   ]
  },
  {
   "cell_type": "markdown",
   "metadata": {},
   "source": [
    "You can verify if OpenCV is properly installed:"
   ]
  },
  {
   "cell_type": "code",
   "execution_count": null,
   "metadata": {},
   "outputs": [],
   "source": [
    "python\n",
    "import cv2\n",
    "exit()"
   ]
  },
  {
   "cell_type": "markdown",
   "metadata": {},
   "source": [
    "Install USB Camera and Image view"
   ]
  },
  {
   "cell_type": "code",
   "execution_count": null,
   "metadata": {},
   "outputs": [],
   "source": [
    "sudo apt-get install ros-kinetic-usb-cam"
   ]
  },
  {
   "cell_type": "code",
   "execution_count": null,
   "metadata": {},
   "outputs": [],
   "source": [
    "sudo apt-get install ros-kinetic-image-view"
   ]
  },
  {
   "cell_type": "markdown",
   "metadata": {},
   "source": [
    "You are ready to work with OpenCV"
   ]
  },
  {
   "cell_type": "markdown",
   "metadata": {},
   "source": [
    "# Structure RaspberryPi3 and Arduino"
   ]
  },
  {
   "cell_type": "markdown",
   "metadata": {},
   "source": [
    "The final structure will be defined by:\n",
    "- a node implemented in the RaspberryPi3\n",
    "- a node in the arduino board\n",
    "\n",
    "The final node and topics schematic will be:"
   ]
  },
  {
   "cell_type": "markdown",
   "metadata": {},
   "source": [
    "<img src=\"./Images/1_nodes_schematics.png\">"
   ]
  },
  {
   "cell_type": "markdown",
   "metadata": {},
   "source": [
    "We will create a \"HW_motion_plan\" package with dependencies:\n",
    "- rospy\n",
    "- std_msgs (for /IMU topic)\n",
    "- sensor_msgs (for /scan topic)\n",
    "- geometry_msgs (for /cmd_vel topic)\n",
    "- nav_msgs (for /odom topic)"
   ]
  },
  {
   "cell_type": "code",
   "execution_count": null,
   "metadata": {},
   "outputs": [],
   "source": [
    "cd ~/rUBot_HW/src"
   ]
  },
  {
   "cell_type": "code",
   "execution_count": null,
   "metadata": {},
   "outputs": [],
   "source": [
    "catkin_create_pkg hw_motion_plan std_msgs sensor_msgs geometry_msgs nav_msgs rospy roscpp"
   ]
  },
  {
   "cell_type": "code",
   "execution_count": null,
   "metadata": {},
   "outputs": [],
   "source": [
    "cd ~/rUBot_HW\n",
    "catkin_make"
   ]
  },
  {
   "cell_type": "markdown",
   "metadata": {},
   "source": [
    "Let's see how to implement the nodes, Publishers and Subscribers"
   ]
  },
  {
   "cell_type": "markdown",
   "metadata": {},
   "source": [
    "# Remote Connection to Lab PC"
   ]
  },
  {
   "cell_type": "markdown",
   "metadata": {},
   "source": [
    "A PC will be installed with all the modules.\n",
    "\n",
    "You can remotelly connect to this PC following these instructions using winSCP or gitBASH\n",
    "\n",
    "For security reasons we generate a KEY and send the public generated KEY to the PC owner."
   ]
  },
  {
   "cell_type": "code",
   "execution_count": null,
   "metadata": {},
   "outputs": [],
   "source": [
    "ssh-KEYGEN "
   ]
  },
  {
   "cell_type": "markdown",
   "metadata": {},
   "source": [
    "(Press ENTER no password)\n",
    "In the user folder and in .ssh folder send the file xxx.pub to the owner (Albert Alvarez)\n",
    "\n",
    "Connect to the public IP of the Albert's RBPI3"
   ]
  },
  {
   "cell_type": "code",
   "execution_count": null,
   "metadata": {},
   "outputs": [],
   "source": [
    "ssh manel@aalvarca.asuscomm.com -p 24853"
   ]
  },
  {
   "cell_type": "code",
   "execution_count": null,
   "metadata": {},
   "outputs": [],
   "source": [
    "roboticsub"
   ]
  },
  {
   "cell_type": "markdown",
   "metadata": {},
   "source": [
    "### VS Code SSH extension"
   ]
  },
  {
   "cell_type": "markdown",
   "metadata": {},
   "source": [
    "Install VS Code following the instructions: https://linuxize.com/post/how-to-install-visual-studio-code-on-ubuntu-18-04/\n",
    "or through the Applications of Ubuntu (A symbol)\n",
    "\n",
    "In order to work with VS Code you have to install the extension \"Remote SSH\" and follow the instructions:\n",
    "\n",
    "click on the left-bottom corner\n",
    "connect to host: ssh manel@aalvarca.asuscomm.com -p 24687\n",
    "Choose: C:\\Users\\Manel|.ssh\\config\n",
    "Connect\n",
    "insert the user name and password\n",
    "open a folder and you will be on the RBPi\n",
    "open a new terminal. every terminal you will open is already in your RBPi"
   ]
  }
 ],
 "metadata": {
  "kernelspec": {
   "display_name": "Python 3",
   "language": "python",
   "name": "python3"
  },
  "language_info": {
   "codemirror_mode": {
    "name": "ipython",
    "version": 3
   },
   "file_extension": ".py",
   "mimetype": "text/x-python",
   "name": "python",
   "nbconvert_exporter": "python",
   "pygments_lexer": "ipython3",
   "version": "3.7.6"
  }
 },
 "nbformat": 4,
 "nbformat_minor": 2
}
