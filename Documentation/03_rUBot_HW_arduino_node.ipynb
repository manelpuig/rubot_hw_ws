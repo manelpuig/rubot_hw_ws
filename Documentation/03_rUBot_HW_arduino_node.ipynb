{
 "cells": [
  {
   "cell_type": "markdown",
   "metadata": {},
   "source": [
    "# Arduino Node with sensors and actuators"
   ]
  },
  {
   "cell_type": "markdown",
   "metadata": {},
   "source": [
    "Remind that we want to develop a HW structure with RaspberryPi3 and Arduino "
   ]
  },
  {
   "cell_type": "markdown",
   "metadata": {},
   "source": [
    "<img src=\"./Images/1_nodes_schematics.png\">"
   ]
  },
  {
   "cell_type": "markdown",
   "metadata": {},
   "source": [
    "Bibliography:\n",
    "\n",
    "course ROS by Anis Koubaa: https://github.com/aniskoubaa/ros_essentials_cpp\n",
    "\n",
    "Course ROS by M. Lukman:https://www.udemy.com/course/mastering-mobile-robot-with-ros-ardunio-car-sensors-to-ros/learn/lecture/14385996#content"
   ]
  },
  {
   "cell_type": "markdown",
   "metadata": {},
   "source": [
    "### Range sensor"
   ]
  },
  {
   "cell_type": "markdown",
   "metadata": {},
   "source": [
    "From the different Ultrasonic range sensors: https://www.intorobotics.com/interfacing-programming-ultrasonic-sensors-tutorials-resources/\n",
    "\n",
    "Develop our first program for Ultrasonic range sensor HC-SC04 (or SR05):"
   ]
  },
  {
   "cell_type": "markdown",
   "metadata": {},
   "source": [
    "<img src=\"./Images/HC_SRF05.png\">"
   ]
  },
  {
   "cell_type": "markdown",
   "metadata": {},
   "source": [
    "Install the library Ultrasound by Erick Simoes from the library manager.\n",
    "\n",
    "There are some exemples wit one and several ultrasonic sensors.\n",
    "\n",
    "we use sensor_msgs/Range data type: http://docs.ros.org/melodic/api/sensor_msgs/html/msg/Range.html\n",
    "\n",
    "We convert the code in the frame of ROS-Publisher code: (ROS_1HC_SR04_Pub.ino)"
   ]
  },
  {
   "cell_type": "code",
   "execution_count": null,
   "metadata": {},
   "outputs": [],
   "source": [
    "/*\n",
    " * ROS Ultrasonic 1 unit HC-SR04\n",
    "*/\n",
    "\n",
    "#include <Ultrasonic.h>\n",
    "#include <ros.h>\n",
    "#include <sensor_msgs/Range.h>\n",
    "\n",
    "Ultrasonic ultrasonic(12, 13);\n",
    "\n",
    "ros::NodeHandle nh;\n",
    "\n",
    "sensor_msgs::Range range_msg;\n",
    "\n",
    "ros::Publisher pub_range_ultrasound(\"/ultrasound\", &range_msg);\n",
    "\n",
    "void setup() {\n",
    "\n",
    "   nh.initNode();\n",
    "   nh.advertise(pub_range_ultrasound);\n",
    "}\n",
    "\n",
    "void loop() {\n",
    "\n",
    "    range_msg.range = ultrasonic.read();\n",
    "    pub_range_ultrasound.publish(&range_msg);\n",
    "\n",
    "    nh.spinOnce();\n",
    "}"
   ]
  },
  {
   "cell_type": "markdown",
   "metadata": {},
   "source": [
    "### IMU 9250"
   ]
  },
  {
   "cell_type": "markdown",
   "metadata": {},
   "source": [
    "We can follow the tutorial: https://atadiat.com/en/e-ros-imu-and-arduino-how-to-send-to-ros/\n",
    "\n",
    "\n",
    "Pub_imu.ino"
   ]
  },
  {
   "cell_type": "code",
   "execution_count": null,
   "metadata": {},
   "outputs": [],
   "source": [
    "//rosrun rosserial_python serial_node.py tcp\n",
    "\n",
    "\n",
    "#include <Wire.h>\n",
    "#include <ros.h>\n",
    "#include <sensor_msgs/Imu.h>\n",
    "ros::NodeHandle nh;\n",
    "\n",
    "sensor_msgs::Imu msg;\n",
    "ros::Publisher pub(\"IMU_data\", &msg);\n",
    "\n",
    "const char* ssid     = \"paradise1\";\n",
    "const char* password = \"112233445\";\n",
    "IPAddress server(192,168,10,2);\n",
    "const uint16_t serverPort = 11411;\n",
    "\n",
    "// MPU6050 Slave Device Address\n",
    "const uint8_t MPU6050SlaveAddress = 0x68;\n",
    "\n",
    "// Select SDA and SCL pins for I2C communication \n",
    "const uint8_t scl = D1;\n",
    "const uint8_t sda = D2;\n",
    "\n",
    "// sensitivity scale factor respective to full scale setting provided in datasheet \n",
    "const uint16_t AccelScaleFactor = 16384;\n",
    "const uint16_t GyroScaleFactor = 131;\n",
    "\n",
    "// MPU6050 few configuration register addresses\n",
    "const uint8_t MPU6050_REGISTER_SMPLRT_DIV   =  0x19;\n",
    "const uint8_t MPU6050_REGISTER_USER_CTRL    =  0x6A;\n",
    "const uint8_t MPU6050_REGISTER_PWR_MGMT_1   =  0x6B;\n",
    "const uint8_t MPU6050_REGISTER_PWR_MGMT_2   =  0x6C;\n",
    "const uint8_t MPU6050_REGISTER_CONFIG       =  0x1A;\n",
    "const uint8_t MPU6050_REGISTER_GYRO_CONFIG  =  0x1B;\n",
    "const uint8_t MPU6050_REGISTER_ACCEL_CONFIG =  0x1C;\n",
    "const uint8_t MPU6050_REGISTER_FIFO_EN      =  0x23;\n",
    "const uint8_t MPU6050_REGISTER_INT_ENABLE   =  0x38;\n",
    "const uint8_t MPU6050_REGISTER_ACCEL_XOUT_H =  0x3B;\n",
    "const uint8_t MPU6050_REGISTER_SIGNAL_PATH_RESET  = 0x68;\n",
    "\n",
    "int16_t AccelX, AccelY, AccelZ, Temperature, GyroX, GyroY, GyroZ;\n",
    "\n",
    "void setup() {\n",
    "  nh.initNode();\n",
    "  nh.advertise(pub);\n",
    "  Serial.begin(9600);\n",
    "  WiFi.begin(ssid, password);\n",
    "  while (WiFi.status() != WL_CONNECTED) {\n",
    "    Serial.print('.');\n",
    "    delay(500);\n",
    "  }\n",
    "   Serial.print(\"IP address: \");\n",
    "   Serial.println(WiFi.localIP());\n",
    "   nh.getHardware()->setConnection(server, serverPort);\n",
    "\n",
    "  Wire.begin(sda, scl);\n",
    "  MPU6050_Init();\n",
    "}\n",
    "\n",
    "void loop() {\n",
    "  double Ax, Ay, Az, T, Gx, Gy, Gz;\n",
    "  \n",
    "  Read_RawValue(MPU6050SlaveAddress, MPU6050_REGISTER_ACCEL_XOUT_H);\n",
    "  \n",
    "  //divide each with their sensitivity scale factor\n",
    "  Ax = (double)AccelX/AccelScaleFactor;\n",
    "  Ay = (double)AccelY/AccelScaleFactor;\n",
    "  Az = (double)AccelZ/AccelScaleFactor;\n",
    "  T = (double)Temperature/340+36.53; //temperature formula\n",
    "  Gx = (double)GyroX/GyroScaleFactor;\n",
    "  Gy = (double)GyroY/GyroScaleFactor;\n",
    "  Gz = (double)GyroZ/GyroScaleFactor;\n",
    "\n",
    "  Serial.print(\"Ax: \"); Serial.print(Ax);\n",
    "  Serial.print(\" Ay: \"); Serial.print(Ay);\n",
    "  Serial.print(\" Az: \"); Serial.print(Az);\n",
    "  Serial.print(\" T: \"); Serial.print(T);\n",
    "  Serial.print(\" Gx: \"); Serial.print(Gx);\n",
    "  Serial.print(\" Gy: \"); Serial.print(Gy);\n",
    "  Serial.print(\" Gz: \"); Serial.println(Gz);\n",
    " //A is for accelerometer , G is for gyroscope\n",
    "  if (nh.connected()) {\n",
    "  Serial.println(\"--------------\");\n",
    "  msg.angular_velocity.x=Gx;\n",
    "  msg.angular_velocity.y=Gy;\n",
    "  msg.angular_velocity.z=Gz;\n",
    "\n",
    "  msg.linear_acceleration.x=Ax;\n",
    "  msg.linear_acceleration.y=Ay;\n",
    "  msg.linear_acceleration.z=Az;\n",
    "  msg.header.frame_id=\"Luqman\";\n",
    "  pub.publish(&msg);}\n",
    "  delay(100);\n",
    "  nh.spinOnce();\n",
    "  delay(10);\n",
    "}\n",
    "\n",
    "void I2C_Write(uint8_t deviceAddress, uint8_t regAddress, uint8_t data){\n",
    "  Wire.beginTransmission(deviceAddress);\n",
    "  Wire.write(regAddress);\n",
    "  Wire.write(data);\n",
    "  Wire.endTransmission();\n",
    "}\n",
    "\n",
    "// read all 14 register\n",
    "void Read_RawValue(uint8_t deviceAddress, uint8_t regAddress){\n",
    "  Wire.beginTransmission(deviceAddress);\n",
    "  Wire.write(regAddress);\n",
    "  Wire.endTransmission();\n",
    "  Wire.requestFrom(deviceAddress, (uint8_t)14);\n",
    "  AccelX = (((int16_t)Wire.read()<<8) | Wire.read());\n",
    "  AccelY = (((int16_t)Wire.read()<<8) | Wire.read());\n",
    "  AccelZ = (((int16_t)Wire.read()<<8) | Wire.read());\n",
    "  Temperature = (((int16_t)Wire.read()<<8) | Wire.read());\n",
    "  GyroX = (((int16_t)Wire.read()<<8) | Wire.read());\n",
    "  GyroY = (((int16_t)Wire.read()<<8) | Wire.read());\n",
    "  GyroZ = (((int16_t)Wire.read()<<8) | Wire.read());\n",
    "}\n",
    "\n",
    "//configure MPU6050\n",
    "void MPU6050_Init(){\n",
    "  delay(150);\n",
    "  I2C_Write(MPU6050SlaveAddress, MPU6050_REGISTER_SMPLRT_DIV, 0x07);\n",
    "  I2C_Write(MPU6050SlaveAddress, MPU6050_REGISTER_PWR_MGMT_1, 0x01);\n",
    "  I2C_Write(MPU6050SlaveAddress, MPU6050_REGISTER_PWR_MGMT_2, 0x00);\n",
    "  I2C_Write(MPU6050SlaveAddress, MPU6050_REGISTER_CONFIG, 0x00);\n",
    "  I2C_Write(MPU6050SlaveAddress, MPU6050_REGISTER_GYRO_CONFIG, 0x00);//set +/-250 degree/second full scale\n",
    "  I2C_Write(MPU6050SlaveAddress, MPU6050_REGISTER_ACCEL_CONFIG, 0x00);// set +/- 2g full scale\n",
    "  I2C_Write(MPU6050SlaveAddress, MPU6050_REGISTER_FIFO_EN, 0x00);\n",
    "  I2C_Write(MPU6050SlaveAddress, MPU6050_REGISTER_INT_ENABLE, 0x01);\n",
    "  I2C_Write(MPU6050SlaveAddress, MPU6050_REGISTER_SIGNAL_PATH_RESET, 0x00);\n",
    "  I2C_Write(MPU6050SlaveAddress, MPU6050_REGISTER_USER_CTRL, 0x00);\n",
    "}\n"
   ]
  },
  {
   "cell_type": "markdown",
   "metadata": {},
   "source": [
    "## Odometry"
   ]
  },
  {
   "cell_type": "markdown",
   "metadata": {},
   "source": [
    "<img src=\"./Images/3_odom1.png\">"
   ]
  },
  {
   "cell_type": "markdown",
   "metadata": {},
   "source": [
    "## Actuators"
   ]
  },
  {
   "cell_type": "markdown",
   "metadata": {},
   "source": [
    "### DC motors"
   ]
  },
  {
   "cell_type": "markdown",
   "metadata": {},
   "source": [
    "You can use the driver L298N\n",
    "\n",
    "you can follow the tutorial: https://www.youtube.com/watch?v=c0L4gNKwjRw\n"
   ]
  },
  {
   "cell_type": "markdown",
   "metadata": {},
   "source": [
    "<img src=\"./Images/L298N.png\">"
   ]
  },
  {
   "cell_type": "markdown",
   "metadata": {},
   "source": [
    "<img src=\"./Images/L298N_connections.png\">"
   ]
  },
  {
   "cell_type": "markdown",
   "metadata": {},
   "source": [
    "We can also use Arduino Motor Shield\n",
    "\n",
    "you can follow the tutorial: https://www.instructables.com/id/Arduino-Motor-Shield-Tutorial/\n",
    "\n",
    "The code is in DC_motor_rUBot.ino"
   ]
  },
  {
   "cell_type": "markdown",
   "metadata": {},
   "source": [
    "<img src=\"./Images/Motor_shield.png\">"
   ]
  },
  {
   "cell_type": "markdown",
   "metadata": {},
   "source": [
    "We will use geometry_msgs/Twist: http://docs.ros.org/melodic/api/geometry_msgs/html/msg/Twist.html"
   ]
  },
  {
   "cell_type": "markdown",
   "metadata": {},
   "source": [
    "Interesting codes in:\n",
    "\n",
    "-with arduino mega: https://create.arduino.cc/projecthub/robinb/nox-a-house-wandering-robot-ros-652315\n",
    "- with ESP8266: https://github.com/Reinbert/ros_diffdrive_robot\n",
    "- ROS speciffic package: http://wiki.ros.org/simple_drive\n",
    "\n",
    "We will develop our own controller using a L298N driver:\n",
    "\n",
    "https://maker.pro/arduino/tutorial/how-to-use-arduino-with-robot-operating-system-ros"
   ]
  },
  {
   "cell_type": "markdown",
   "metadata": {},
   "source": [
    "<img src=\"./Images/DC_motor_arduino.png\">"
   ]
  },
  {
   "cell_type": "markdown",
   "metadata": {},
   "source": [
    "The code in ROS is in ROS_DC_motor_rUBot.ino\n",
    "\n",
    "The code integrated with the sensors is in:\n",
    "- ROS_sensors2motor1.ino Including cmd_vel with Empty type message\n",
    "- ROS_sensors2motor.ino Including cmd_vel with Twist type message\n",
    "- ROS_sensors2motor2.ino Including cmd_vel with Twist type message and IKINE and functions"
   ]
  },
  {
   "cell_type": "code",
   "execution_count": null,
   "metadata": {},
   "outputs": [],
   "source": [
    "/*\n",
    " * rosserial sensors range, imu, ultrasound to motor\n",
    " */\n",
    "\n",
    "#include <ArduinoHardware.h>\n",
    "#include <ros.h>\n",
    "#include <std_msgs/String.h>\n",
    "#include <std_msgs/Int32.h>\n",
    "#include <geometry_msgs/Twist.h>\n",
    "\n",
    "\n",
    "#define EN_L 9\n",
    "#define IN1_L 10\n",
    "#define IN2_L 11\n",
    "\n",
    "#define EN_R 8\n",
    "#define IN1_R 12\n",
    "#define IN2_R 13\n",
    "\n",
    "\n",
    "double w_r=0, w_l=0;\n",
    "\n",
    "//wheel_rad is the wheel radius ,wheel_sep is\n",
    "double wheel_rad = 0.0325, wheel_sep = 0.295;\n",
    "\n",
    "\n",
    "ros::NodeHandle  nh;\n",
    "int lowSpeed = 200;\n",
    "int highSpeed = 50;\n",
    "double speed_ang=0, speed_lin=0;\n",
    "\n",
    "\n",
    "void velCb(const geometry_msgs::Twist& vel_msg){\n",
    "  speed_ang = vel_msg.angular.z;\n",
    "  speed_lin = vel_msg.linear.x;\n",
    "  w_r = (speed_lin/wheel_rad) + ((speed_ang*wheel_sep)/(2.0*wheel_rad));\n",
    "  w_l = (speed_lin/wheel_rad) - ((speed_ang*wheel_sep)/(2.0*wheel_rad));\n",
    "}\n",
    "\n",
    "ros::Subscriber<geometry_msgs::Twist> vel_sub(\"cmd_vel\", velCb );\n",
    "void Motors_init();\n",
    "void MotorL(int Pulse_Width1);\n",
    "void MotorR(int Pulse_Width2);\n",
    "\n",
    "std_msgs::Int32 range_msg;\n",
    "ros::Publisher range_pub(\"range\", &range_msg);\n",
    "\n",
    "int obstacle=6;\n",
    "\n",
    "std_msgs::String imu_msg;\n",
    "ros::Publisher imu_pub(\"imu\", &imu_msg);\n",
    "\n",
    "char rpy[]=\"R60P30Y30\";\n",
    "\n",
    "std_msgs::Int32 odom_msg;\n",
    "ros::Publisher odom_pub(\"odom\", &odom_msg);\n",
    "\n",
    "int distance=10;\n",
    "\n",
    "void setup()\n",
    "{\n",
    "  Motors_init();\n",
    "  nh.initNode();\n",
    "  nh.advertise(range_pub);\n",
    "  nh.advertise(imu_pub);\n",
    "  nh.advertise(odom_pub);\n",
    "  nh.subscribe(vel_sub);\n",
    "}\n",
    "\n",
    "void loop()\n",
    "{\n",
    "  range_msg.data = obstacle;\n",
    "  range_pub.publish( &range_msg );\n",
    "  imu_msg.data = rpy;\n",
    "  imu_pub.publish( &imu_msg );\n",
    "  odom_msg.data = distance;\n",
    "  odom_pub.publish( &odom_msg );\n",
    "  \n",
    "  MotorL(w_l*10);\n",
    "  MotorR(w_r*10);\n",
    "  nh.spinOnce();\n",
    "  //delay(1); //low value (or eliminated) to avoid unsync!\n",
    "}\n",
    "\n",
    "\n",
    "void Motors_init(){\n",
    "\n",
    " pinMode(EN_L, OUTPUT);\n",
    "\n",
    " pinMode(EN_R, OUTPUT);\n",
    "\n",
    " pinMode(IN1_L, OUTPUT);\n",
    "\n",
    " pinMode(IN2_L, OUTPUT);\n",
    "\n",
    " pinMode(IN1_R, OUTPUT);\n",
    "\n",
    " pinMode(IN2_R, OUTPUT);\n",
    "\n",
    " digitalWrite(EN_L, LOW);\n",
    "\n",
    " digitalWrite(EN_R, LOW);\n",
    "\n",
    " digitalWrite(IN1_L, LOW);\n",
    "\n",
    " digitalWrite(IN2_L, LOW);\n",
    "\n",
    " digitalWrite(IN1_R, LOW);\n",
    "\n",
    " digitalWrite(IN2_R, LOW);\n",
    "\n",
    "}\n",
    "\n",
    "void MotorL(int Pulse_Width1){\n",
    " if (Pulse_Width1 > 0){\n",
    "\n",
    "     analogWrite(EN_L, Pulse_Width1);\n",
    "\n",
    "     digitalWrite(IN1_L, HIGH);\n",
    "\n",
    "     digitalWrite(IN2_L, LOW);\n",
    "\n",
    " }\n",
    "\n",
    " if (Pulse_Width1 < 0){\n",
    "\n",
    "     Pulse_Width1=abs(Pulse_Width1);\n",
    "\n",
    "     analogWrite(EN_L, Pulse_Width1);\n",
    "\n",
    "     digitalWrite(IN1_L, LOW);\n",
    "\n",
    "     digitalWrite(IN2_L, HIGH);\n",
    "\n",
    " }\n",
    "\n",
    " if (Pulse_Width1 == 0){\n",
    "\n",
    "     analogWrite(EN_L, Pulse_Width1);\n",
    "\n",
    "     digitalWrite(IN1_L, LOW);\n",
    "\n",
    "     digitalWrite(IN2_L, LOW);\n",
    "\n",
    " }\n",
    "\n",
    "}\n",
    "\n",
    "\n",
    "void MotorR(int Pulse_Width2){\n",
    "\n",
    "\n",
    " if (Pulse_Width2 > 0){\n",
    "\n",
    "     analogWrite(EN_R, Pulse_Width2);\n",
    "\n",
    "     digitalWrite(IN1_R, LOW);\n",
    "\n",
    "     digitalWrite(IN2_R, HIGH);\n",
    "\n",
    " }\n",
    "\n",
    " if (Pulse_Width2 < 0){\n",
    "\n",
    "     Pulse_Width2=abs(Pulse_Width2);\n",
    "\n",
    "     analogWrite(EN_R, Pulse_Width2);\n",
    "\n",
    "     digitalWrite(IN1_R, HIGH);\n",
    "\n",
    "     digitalWrite(IN2_R, LOW);\n",
    "\n",
    " }\n",
    "\n",
    " if (Pulse_Width2 == 0){\n",
    "\n",
    "     analogWrite(EN_R, Pulse_Width2);\n",
    "\n",
    "     digitalWrite(IN1_R, LOW);\n",
    "\n",
    "     digitalWrite(IN2_R, LOW);\n",
    "\n",
    " }\n",
    "\n",
    "}"
   ]
  },
  {
   "cell_type": "markdown",
   "metadata": {},
   "source": [
    "Note!: if we are using Arduino UNO board, the scketch uses 75% of the total flash memory available (32KB)\n",
    "If we use a STM32 Nucleo 103RB, the scketch uses the 11% of the total flash memory available (128KB)\n",
    "\n",
    "We will have to use STM32 Nucleo boards for the project!"
   ]
  },
  {
   "cell_type": "code",
   "execution_count": null,
   "metadata": {},
   "outputs": [],
   "source": [
    "rosrun rosserial_python serial_node.py /dev/ttyACM0"
   ]
  },
  {
   "cell_type": "markdown",
   "metadata": {},
   "source": [
    "In PC rUBot_navigation.py"
   ]
  },
  {
   "cell_type": "code",
   "execution_count": null,
   "metadata": {},
   "outputs": [],
   "source": [
    "#!/usr/bin/env python\n",
    "\n",
    "import rospy\n",
    "\n",
    "from std_msgs.msg import String, Int32, Empty\n",
    "\n",
    "# Initialise variables\n",
    "range_msg=0\n",
    "imu_msg=\"\"\n",
    "odom_msg=0\n",
    "\n",
    "pub = None\n",
    "\n",
    "#define function/functions to provide the required functionality\n",
    "def rangeCb(r_msg): # msg could be any name\n",
    "    global range_msg\n",
    "    range_msg=r_msg.data\n",
    "    rospy.loginfo(rospy.get_caller_id() + \": I heard %s\", range_msg)  \n",
    "    if range_msg<7:\n",
    "        vel_msg=Empty() # message to be published\n",
    "        rospy.loginfo(\"Too close!. I send Empty message to toggle LED\")\n",
    "        pub.publish(vel_msg)\n",
    "    else:\n",
    "        rospy.loginfo(\"Far enough!\")\n",
    "\n",
    "def imuCb(i_msg):\n",
    "    global imu_msg\n",
    "    imu_msg=i_msg.data\n",
    "    rospy.loginfo(rospy.get_caller_id() + \": I heard %s\", imu_msg)\n",
    "\n",
    "def odomCb(o_msg):\n",
    "    global odom_msg\n",
    "    odom_msg=o_msg.data\n",
    "    rospy.loginfo(rospy.get_caller_id() + \": I heard %s\", odom_msg)\n",
    "    \n",
    "if __name__=='__main__':\n",
    "\n",
    "    try:\n",
    "        #Add here the name of the ROS node. Node names are unique named. Here without \"anonimous\"!\n",
    "        rospy.init_node('rUBot_ctrl_node')\n",
    "        #subscribe to a topic using rospy.Subscriber class\n",
    "        sub_range=rospy.Subscriber('/range', Int32, rangeCb)\n",
    "        sub_imu=rospy.Subscriber('/imu', String, imuCb)\n",
    "        sub_odom=rospy.Subscriber('/odom', Int32, odomCb)\n",
    "        #publish messages to a topic using rospy.Publisher class\n",
    "        pub=rospy.Publisher('/cmd_vel', Empty, queue_size=10)\n",
    "  \n",
    "        rospy.spin()\n",
    "      \n",
    "    except rospy.ROSInterruptException:\n",
    "        rospy.loginfo(\"node terminated.\")"
   ]
  },
  {
   "cell_type": "code",
   "execution_count": null,
   "metadata": {},
   "outputs": [],
   "source": [
    "rosrun hw_motion_plan rUBot_navigation.py"
   ]
  },
  {
   "cell_type": "markdown",
   "metadata": {},
   "source": [
    "<img src=\"./Images/3_sensor2motor_terminal.png\">"
   ]
  },
  {
   "cell_type": "markdown",
   "metadata": {},
   "source": [
    "<img src=\"./Images/3_sensor2motor_rqt.png\">"
   ]
  },
  {
   "cell_type": "markdown",
   "metadata": {},
   "source": [
    "we can use a launch file to start all the nodes. Even we can start the \"teleop_twist_keyboard\" node to control the robot with the keyboard. \n",
    "We create a launch \"rUBot_control.launch\" file in the \"hw_motion_plan\" package:"
   ]
  },
  {
   "cell_type": "code",
   "execution_count": null,
   "metadata": {},
   "outputs": [],
   "source": [
    "<launch>\n",
    "    <node name=\"serial_node\"        pkg=\"rosserial_python\"      type=\"serial_node.py\">\n",
    "    <param name=\"port\"              type=\"string\"               value=\"/dev/ttyACM0\"/>\n",
    "    <param name=\"baud\"              type=\"int\"                  value=\"57600\"/>\n",
    "    </node>\n",
    "\n",
    "    <node name=\"rUBot_ctrl_node\"        pkg=\"hw_motion_plan\"      type=\"rUBot_navigation.py\">\n",
    "    </node>\n",
    "\n",
    "    <node name=\"teleop_twist_keyboard\"        pkg=\"teleop_twist_keyboard\"      type=\"teleop_twist_keyboard.py\">\n",
    "    </node>\n",
    "\n",
    "</launch>"
   ]
  },
  {
   "cell_type": "markdown",
   "metadata": {},
   "source": [
    "To start you can launch this file and the roscore will automatically start:"
   ]
  },
  {
   "cell_type": "code",
   "execution_count": null,
   "metadata": {},
   "outputs": [],
   "source": [
    "roslaunch hw_motion_plan rUBot_control.launch"
   ]
  },
  {
   "cell_type": "code",
   "execution_count": null,
   "metadata": {},
   "outputs": [],
   "source": []
  }
 ],
 "metadata": {
  "kernelspec": {
   "display_name": "Python 2",
   "language": "python",
   "name": "python2"
  },
  "language_info": {
   "codemirror_mode": {
    "name": "ipython",
    "version": 2
   },
   "file_extension": ".py",
   "mimetype": "text/x-python",
   "name": "python",
   "nbconvert_exporter": "python",
   "pygments_lexer": "ipython2",
   "version": "2.7.12"
  }
 },
 "nbformat": 4,
 "nbformat_minor": 2
}
